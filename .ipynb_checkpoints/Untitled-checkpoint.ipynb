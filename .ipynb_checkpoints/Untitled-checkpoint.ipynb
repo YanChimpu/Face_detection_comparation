{
 "cells": [
  {
   "cell_type": "code",
   "execution_count": 63,
   "metadata": {},
   "outputs": [],
   "source": [
    "import os\n",
    "import re"
   ]
  },
  {
   "cell_type": "code",
   "execution_count": 64,
   "metadata": {},
   "outputs": [],
   "source": [
    "img_dir = 'images/'\n",
    "foldname = os.listdir(img_dir)"
   ]
  },
  {
   "cell_type": "code",
   "execution_count": 78,
   "metadata": {},
   "outputs": [
    {
     "name": "stdout",
     "output_type": "stream",
     "text": [
      "images/test/0_Parade_Parade_0_553.jpg\n",
      "images/test/0_Parade_Parade_0_560.jpg\n",
      "images/test/0_Parade_Parade_0_564.jpg\n"
     ]
    }
   ],
   "source": [
    "for fold in foldname:\n",
    "    if os.path.isdir(img_dir + fold):\n",
    "        image_list = os.listdir(img_dir + fold)\n",
    "    for image_name in image_list:\n",
    "        filename = image_name[:-4]\n",
    "        print(img_dir+fold+'/'+image_name)\n",
    "    "
   ]
  },
  {
   "cell_type": "code",
   "execution_count": 1,
   "metadata": {},
   "outputs": [],
   "source": [
    "from scipy.io import loadmat"
   ]
  },
  {
   "cell_type": "code",
   "execution_count": 2,
   "metadata": {},
   "outputs": [],
   "source": [
    "gt_mat = loadmat('wider_face_val.mat')"
   ]
  },
  {
   "cell_type": "code",
   "execution_count": 7,
   "metadata": {},
   "outputs": [
    {
     "name": "stdout",
     "output_type": "stream",
     "text": [
      "__header__\n",
      "__version__\n",
      "__globals__\n",
      "blur_label_list\n",
      "event_list\n",
      "expression_label_list\n",
      "face_bbx_list\n",
      "file_list\n",
      "illumination_label_list\n",
      "invalid_label_list\n",
      "occlusion_label_list\n",
      "pose_label_list\n"
     ]
    }
   ],
   "source": [
    "for i in gt_mat:\n",
    "    print(i)"
   ]
  },
  {
   "cell_type": "code",
   "execution_count": null,
   "metadata": {},
   "outputs": [],
   "source": [
    "def read_pred_file(filepath):\n",
    "\n",
    "    with open(filepath, 'r') as f:\n",
    "        lines = f.readlines()\n",
    "        img_file = lines[0].rstrip('\\n\\r')\n",
    "        lines = lines[2:]\n",
    "\n",
    "    boxes = np.array(list(map(lambda x: [float(a) for a in x.rstrip('\\r\\n').split(' ')], lines))).astype('float')\n",
    "    return img_file.split('/')[-1], boxes"
   ]
  },
  {
   "cell_type": "code",
   "execution_count": null,
   "metadata": {},
   "outputs": [],
   "source": [
    "def get_preds(pred_dir):\n",
    "    events = os.listdir(pred_dir)\n",
    "    boxes = dict()\n",
    "    pbar = tqdm.tqdm(events)\n",
    "\n",
    "    for event in pbar:\n",
    "        pbar.set_description('Reading Predictions ')\n",
    "        event_dir = os.path.join(pred_dir, event)\n",
    "        event_images = os.listdir(event_dir)\n",
    "        current_event = dict()\n",
    "        for imgtxt in event_images:\n",
    "            imgname, _boxes = read_pred_file(os.path.join(event_dir, imgtxt))\n",
    "            current_event[imgname.rstrip('.jpg')] = _boxes\n",
    "        boxes[event] = current_event\n",
    "    return boxes"
   ]
  }
 ],
 "metadata": {
  "kernelspec": {
   "display_name": "Python 3",
   "language": "python",
   "name": "python3"
  },
  "language_info": {
   "codemirror_mode": {
    "name": "ipython",
    "version": 3
   },
   "file_extension": ".py",
   "mimetype": "text/x-python",
   "name": "python",
   "nbconvert_exporter": "python",
   "pygments_lexer": "ipython3",
   "version": "3.7.4"
  }
 },
 "nbformat": 4,
 "nbformat_minor": 2
}
